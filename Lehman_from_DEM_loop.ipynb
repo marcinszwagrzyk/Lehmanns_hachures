{
 "cells": [
  {
   "cell_type": "code",
   "execution_count": 3,
   "metadata": {},
   "outputs": [],
   "source": [
    "from module import *\n",
    "from api_key import *"
   ]
  },
  {
   "cell_type": "code",
   "execution_count": 6,
   "metadata": {},
   "outputs": [
    {
     "data": {
      "text/plain": [
       "'d216d4befdd891d39fc6db5b4ddf4a8e'"
      ]
     },
     "execution_count": 6,
     "metadata": {},
     "output_type": "execute_result"
    }
   ],
   "source": [
    "islands_list = ['Tenerife']\n",
    "API_key = API_key\n",
    "API_key"
   ]
  },
  {
   "cell_type": "code",
   "execution_count": null,
   "metadata": {},
   "outputs": [],
   "source": [
    "for island in islands_list:\n",
    "    try:\n",
    "        download_and_plot(island, API_key=API_key)\n",
    "    except Exception as e:\n",
    "        traceback.print_exc()"
   ]
  }
 ],
 "metadata": {
  "kernelspec": {
   "display_name": "Python 3.9.7 ('ds_airly')",
   "language": "python",
   "name": "python3"
  },
  "language_info": {
   "codemirror_mode": {
    "name": "ipython",
    "version": 3
   },
   "file_extension": ".py",
   "mimetype": "text/x-python",
   "name": "python",
   "nbconvert_exporter": "python",
   "pygments_lexer": "ipython3",
   "version": "3.9.7"
  },
  "vscode": {
   "interpreter": {
    "hash": "5a4460b275d6afaef07253b77ffc32cbe17eb013af9943b1fd934eb13b6f3831"
   }
  }
 },
 "nbformat": 4,
 "nbformat_minor": 1
}
