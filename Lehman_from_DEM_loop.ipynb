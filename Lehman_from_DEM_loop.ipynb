{
 "cells": [
  {
   "cell_type": "code",
   "execution_count": 1,
   "metadata": {},
   "outputs": [
    {
     "name": "stderr",
     "output_type": "stream",
     "text": [
      "c:\\Users\\Airly\\anaconda3\\envs\\ds_airly\\lib\\site-packages\\requests\\__init__.py:102: RequestsDependencyWarning: urllib3 (1.26.7) or chardet (None)/charset_normalizer (3.1.0) doesn't match a supported version!\n",
      "  warnings.warn(\"urllib3 ({}) or chardet ({})/charset_normalizer ({}) doesn't match a supported \"\n"
     ]
    }
   ],
   "source": [
    "from module import *"
   ]
  },
  {
   "cell_type": "code",
   "execution_count": 2,
   "metadata": {},
   "outputs": [],
   "source": [
    "islands_list = ['Fuerteventura', 'La Palma', 'Tenerife', 'Gran Canaria', 'Lanzarote']\n",
    "API_key = r'd216d4befdd891d39fc6db5b4ddf4a8e'\n",
    "\n",
    "# todo put here api key from\n",
    "# # TODO exclude -9 999 from slopes - from rasterio level?? for proper plot\n",
    "# todo Collection.__next__() is buggy\n",
    "# todo move into a module\n",
    "# todo print home directory"
   ]
  },
  {
   "cell_type": "code",
   "execution_count": null,
   "metadata": {},
   "outputs": [],
   "source": [
    "for island in islands_list:\n",
    "    try:\n",
    "        download_and_plot(island, API_key=API_key)\n",
    "    except Exception as e:\n",
    "        traceback.print_exc()"
   ]
  }
 ],
 "metadata": {
  "kernelspec": {
   "display_name": "Python 3.9.7 ('ds_airly')",
   "language": "python",
   "name": "python3"
  },
  "language_info": {
   "codemirror_mode": {
    "name": "ipython",
    "version": 3
   },
   "file_extension": ".py",
   "mimetype": "text/x-python",
   "name": "python",
   "nbconvert_exporter": "python",
   "pygments_lexer": "ipython3",
   "version": "3.9.7"
  },
  "vscode": {
   "interpreter": {
    "hash": "5a4460b275d6afaef07253b77ffc32cbe17eb013af9943b1fd934eb13b6f3831"
   }
  }
 },
 "nbformat": 4,
 "nbformat_minor": 1
}
